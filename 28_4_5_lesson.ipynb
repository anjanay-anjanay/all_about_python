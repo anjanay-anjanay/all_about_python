{
  "nbformat": 4,
  "nbformat_minor": 0,
  "metadata": {
    "colab": {
      "provenance": [],
      "authorship_tag": "ABX9TyN4aNqTzDxtSImtKLQudO6U",
      "include_colab_link": true
    },
    "kernelspec": {
      "name": "python3",
      "display_name": "Python 3"
    },
    "language_info": {
      "name": "python"
    }
  },
  "cells": [
    {
      "cell_type": "markdown",
      "metadata": {
        "id": "view-in-github",
        "colab_type": "text"
      },
      "source": [
        "<a href=\"https://colab.research.google.com/github/anjanay-anjanay/all_about_python/blob/main/28_4_5_lesson.ipynb\" target=\"_parent\"><img src=\"https://colab.research.google.com/assets/colab-badge.svg\" alt=\"Open In Colab\"/></a>"
      ]
    },
    {
      "cell_type": "code",
      "execution_count": null,
      "metadata": {
        "colab": {
          "base_uri": "https://localhost:8080/"
        },
        "id": "ViBBsKXaP2W0",
        "outputId": "798056f8-6880-436f-bbcd-57466eb095d5"
      },
      "outputs": [
        {
          "output_type": "stream",
          "name": "stdout",
          "text": [
            "Please enter any random number between 100 and 200 101\n",
            "The number is an outlier\n"
          ]
        }
      ],
      "source": [
        "#Working of conditions and loops\n",
        "#for safety purposes use and,or instead of\n",
        "first = input(\"Please enter any random number between 100 and 200 \")\n",
        "first = int(first)\n",
        "\n",
        "if first == 150:\n",
        "  print(\"The numnber you have chosen is mean and meadian\")\n",
        "elif first != 150 and first <= 160 and first >= 140:\n",
        "  print(\"The number is around median\")\n",
        "elif first <= 110 or first >= 190:\n",
        "  print(\"The number is an outlier\")\n",
        "elif first < 100:\n",
        "  print(\"The given number is below 100\")\n",
        "else:\n",
        "  print(\"The selected number is just between 100 and 200\")"
      ]
    },
    {
      "cell_type": "code",
      "source": [
        "#While loop operation\n",
        "#indentation ko carefully use kro\n",
        "num_inp= input(\"Please enter any number between 20 and 40 \")\n",
        "print(\"The random number selected is: \", num_inp)\n",
        "num_inp = int(num_inp)\n",
        "\n",
        "if num_inp >= 20 and num_inp <= 40:\n",
        "  while num_inp >=0:\n",
        "    print(num_inp)\n",
        "    num_inp -= 2\n",
        "else:\n",
        "  print(\"The number is out of range\")\n"
      ],
      "metadata": {
        "colab": {
          "base_uri": "https://localhost:8080/"
        },
        "id": "oxD8miBkTpKS",
        "outputId": "82f64953-861d-48d5-8970-cb9eac45a2f6"
      },
      "execution_count": null,
      "outputs": [
        {
          "output_type": "stream",
          "name": "stdout",
          "text": [
            "Please enter any number between 20 and 40 34\n",
            "The random number selected is:  34\n",
            "34\n",
            "32\n",
            "30\n",
            "28\n",
            "26\n",
            "24\n",
            "22\n",
            "20\n",
            "18\n",
            "16\n",
            "14\n",
            "12\n",
            "10\n",
            "8\n",
            "6\n",
            "4\n",
            "2\n",
            "0\n"
          ]
        }
      ]
    },
    {
      "cell_type": "code",
      "source": [
        "# for loop operation\n",
        "# program to print the \n",
        "\n",
        "first = input(\"Please enter any random even number: \")\n",
        "first = int(first)\n",
        "print(\"The given randon even number is: \",first)\n",
        "\n",
        "if first % 2 == 0:\n",
        "  i = 0\n",
        "  for i in range(first+1):\n",
        "   print(first)\n",
        "   first -= 2\n",
        "   if first == 0:\n",
        "     print(0)\n",
        "     break\n",
        "else:\n",
        "  print(\"Number is not Even\")"
      ],
      "metadata": {
        "id": "2cwwwCsCZUD1",
        "colab": {
          "base_uri": "https://localhost:8080/"
        },
        "outputId": "e1cd438e-f03c-4d88-dc12-edc70cbc91af"
      },
      "execution_count": null,
      "outputs": [
        {
          "output_type": "stream",
          "name": "stdout",
          "text": [
            "Please enter any random even number: 88\n",
            "The given randon even number is:  88\n",
            "88\n",
            "86\n",
            "84\n",
            "82\n",
            "80\n",
            "78\n",
            "76\n",
            "74\n",
            "72\n",
            "70\n",
            "68\n",
            "66\n",
            "64\n",
            "62\n",
            "60\n",
            "58\n",
            "56\n",
            "54\n",
            "52\n",
            "50\n",
            "48\n",
            "46\n",
            "44\n",
            "42\n",
            "40\n",
            "38\n",
            "36\n",
            "34\n",
            "32\n",
            "30\n",
            "28\n",
            "26\n",
            "24\n",
            "22\n",
            "20\n",
            "18\n",
            "16\n",
            "14\n",
            "12\n",
            "10\n",
            "8\n",
            "6\n",
            "4\n",
            "2\n",
            "0\n"
          ]
        }
      ]
    },
    {
      "cell_type": "code",
      "source": [
        "#Functions operation\n",
        "\n",
        "def vowel_count(word):\n",
        "  vowel = ['a','e','i','o','u','A','E','I','O','U']\n",
        "  vl = [] #empty vowel list\n",
        "  vc = 0 #vowel count\n",
        "  char_list = list(word)\n",
        "  for c in char_list:\n",
        "    if c in vowel:\n",
        "      vl.append(c)\n",
        "      vc = vc + 1\n",
        "      #print('Vowel in the word: ',vl)\n",
        "      #print('Number of vowels in the word: ',vc)\n",
        "      #return(None)\n",
        "  return(vl,vc)\n",
        "\n",
        "inp_word = input(\"Please enter any word: \")\n",
        "#vowel_count(inp_word)\n",
        "\n",
        "print('Word: ', inp_word)\n",
        "\n",
        "vl,vc = vowel_count(inp_word)\n",
        "print('Vowel in the word: ',vl)\n",
        "print('Number of vowels in the word: ',vc)\n"
      ],
      "metadata": {
        "colab": {
          "base_uri": "https://localhost:8080/"
        },
        "id": "pks-Ia1hJsd7",
        "outputId": "96de01a1-2e50-41cd-e17c-cf6918cadc8a"
      },
      "execution_count": null,
      "outputs": [
        {
          "output_type": "stream",
          "name": "stdout",
          "text": [
            "Please enter any word: Anmol\n",
            "Word:  Anmol\n",
            "Vowel in the word:  ['A', 'o']\n",
            "Number of vowels in the word:  2\n"
          ]
        }
      ]
    },
    {
      "cell_type": "code",
      "source": [],
      "metadata": {
        "id": "BcajsyodmQcl"
      },
      "execution_count": null,
      "outputs": []
    },
    {
      "cell_type": "code",
      "source": [],
      "metadata": {
        "id": "QnfcyBXM1lv0"
      },
      "execution_count": null,
      "outputs": []
    }
  ]
}