{
  "cells": [
    {
      "cell_type": "markdown",
      "metadata": {
        "id": "view-in-github",
        "colab_type": "text"
      },
      "source": [
        "<a href=\"https://colab.research.google.com/github/anjanay-anjanay/all_about_python/blob/main/ClassWork.ipynb\" target=\"_parent\"><img src=\"https://colab.research.google.com/assets/colab-badge.svg\" alt=\"Open In Colab\"/></a>"
      ]
    },
    {
      "cell_type": "code",
      "execution_count": null,
      "metadata": {
        "colab": {
          "base_uri": "https://localhost:8080/"
        },
        "id": "nps7lY_oCjBx",
        "outputId": "38668077-cbfa-467a-d98a-f06b8e308c7c"
      },
      "outputs": [
        {
          "name": "stdout",
          "output_type": "stream",
          "text": [
            "<class 'int'>\n",
            "3.145\n"
          ]
        },
        {
          "data": {
            "text/plain": [
              "float"
            ]
          },
          "execution_count": 5,
          "metadata": {},
          "output_type": "execute_result"
        }
      ],
      "source": [
        "#basic datatypes \n",
        "\n",
        "n_int = 3022\n",
        "print(type(n_int))\n",
        "\n",
        "n_float= 50.9\n",
        "type(n_float) \n",
        "\n",
        "pi_float = 3.145\n",
        "print(pi_float)\n",
        "type(pi_float)"
      ]
    },
    {
      "cell_type": "code",
      "execution_count": null,
      "metadata": {
        "colab": {
          "base_uri": "https://localhost:8080/"
        },
        "id": "ShOmFlLpEh7_",
        "outputId": "d473fe32-e681-4e16-9a52-d10ac6ec131f"
      },
      "outputs": [
        {
          "name": "stdout",
          "output_type": "stream",
          "text": [
            "7\n",
            "5.25\n",
            "759.69140625\n",
            "759.69\n",
            "760.0\n"
          ]
        }
      ],
      "source": [
        "#Numeric Operations\n",
        "\n",
        "n1=4\n",
        "n2=5\n",
        "n3=6\n",
        "n4=7\n",
        "n5=8\n",
        "\n",
        "n11= n3+n2-n1\n",
        "print(n11) #add and subs\n",
        "\n",
        "n12 = (n3*n4)/n5\n",
        "print(n12) #mul and div\n",
        "\n",
        "n13= n12 ** n1\n",
        "print(n13) #expo and power\n",
        "\n",
        "n14= round(n13, 2) #rounding off till two places\n",
        "print(n14)\n",
        "\n",
        "n15= round(n13, 0)\n",
        "print(n15)\n"
      ]
    },
    {
      "cell_type": "code",
      "execution_count": null,
      "metadata": {
        "colab": {
          "base_uri": "https://localhost:8080/"
        },
        "id": "I9wC5LPAF6zU",
        "outputId": "5b88e362-3f58-463f-cfeb-7fa08d79ef7f"
      },
      "outputs": [
        {
          "name": "stdout",
          "output_type": "stream",
          "text": [
            "\n",
            "\n",
            "\n",
            "\n"
          ]
        },
        {
          "data": {
            "text/plain": [
              "str"
            ]
          },
          "execution_count": 13,
          "metadata": {},
          "output_type": "execute_result"
        }
      ],
      "source": [
        "#strings attached\n",
        "\n",
        "str_single_q = 'Anjanay'\n",
        "str_double_q = \"Ankit's\"\n",
        "str_triple_q = '''Anjanay\"s and Ankit's'''\n",
        "str_empty = ''\n",
        "\n",
        "print(str_empty)\n",
        "print(str_empty)\n",
        "print(str_empty)\n",
        "print(str_empty)\n",
        "\n",
        "\n",
        "type(str_single_q)\n",
        "type(str_double_q)\n",
        "type(str_triple_q)"
      ]
    },
    {
      "cell_type": "code",
      "execution_count": null,
      "metadata": {
        "colab": {
          "base_uri": "https://localhost:8080/"
        },
        "id": "aABAexgKG48m",
        "outputId": "b436c698-63a1-42ff-d325-b263a5ad5e58"
      },
      "outputs": [
        {
          "name": "stdout",
          "output_type": "stream",
          "text": [
            "41\n",
            "q\n",
            "l\n",
            "The quick brown fox jump\n",
            "The quick brown fox jumps over a lazy dog\n",
            "The quick brown fox jumps over a lazy dog\n",
            "god yzal a revo spmuj xof nworb kciuq ehT\n",
            "['T', 'h', 'e', ' ', 'q', 'u', 'i', 'c', 'k', ' ', 'b', 'r', 'o', 'w', 'n', ' ', 'f', 'o', 'x', ' ', 'j', 'u', 'm', 'p', 's', ' ', 'o', 'v', 'e', 'r', ' ', 'a', ' ', 'l', 'a', 'z', 'y', ' ', 'd', 'o', 'g']\n"
          ]
        }
      ],
      "source": [
        "#Strings Operations\n",
        "message= 'The quick brown fox jumps over a lazy dog'\n",
        "\n",
        "m_len= len(message)\n",
        "\n",
        "print(m_len)\n",
        "print(message[4])\n",
        "print(message[-8])\n",
        "\n",
        "print(message[0:24])\n",
        "print(message[:42])\n",
        "\n",
        "print(message[:20] + message[20:])\n",
        "\n",
        "\n",
        "#printing in reverse oreder\n",
        "print(message[::-1])\n",
        "\n",
        "#converting string into list with the individual characters\n",
        "n_list = list(message)\n",
        "print(n_list)\n",
        "\n",
        "\n",
        "\n"
      ]
    },
    {
      "cell_type": "code",
      "execution_count": null,
      "metadata": {
        "colab": {
          "base_uri": "https://localhost:8080/"
        },
        "id": "0vt-iFwAKCb7",
        "outputId": "3277a5f4-db0f-4c1d-f193-37150d696ae6"
      },
      "outputs": [
        {
          "name": "stdout",
          "output_type": "stream",
          "text": [
            "<class 'bool'>\n",
            "<class 'bool'>\n",
            "False\n",
            "True\n",
            "False\n",
            "<class 'int'> 5\n"
          ]
        }
      ],
      "source": [
        "#boolean type\n",
        "\n",
        "first = True\n",
        "print(type(first))\n",
        "\n",
        "second = False\n",
        "print(type(second))\n",
        "\n",
        "c = first & second\n",
        "print(c)\n",
        "\n",
        "d = first | second\n",
        "print(d)\n",
        "\n",
        "#playing with logical operators\n",
        "print(not d)\n",
        "\n",
        "#playing with none\n",
        "no = None\n",
        "type(no)\n",
        "\n",
        "no = 5\n",
        "print(type(no),no)\n",
        "\n"
      ]
    },
    {
      "cell_type": "code",
      "execution_count": null,
      "metadata": {
        "colab": {
          "base_uri": "https://localhost:8080/"
        },
        "id": "Bep3DH7cUIrW",
        "outputId": "410dadf0-f5bc-42b5-f870-490c676b8be0"
      },
      "outputs": [
        {
          "name": "stdout",
          "output_type": "stream",
          "text": [
            "range(0, 5)\n",
            "<class 'range'>\n",
            "[0, 1, 2, 3, 4]\n",
            "0\n",
            "1\n",
            "2\n",
            "3\n",
            "4\n",
            "[0, 2, 4, 6, 8]\n",
            "[10, 9, 8, 7, 6, 5, 4, 3, 2, 1]\n"
          ]
        }
      ],
      "source": [
        "#Range Working\n",
        "#by default it is starting from 0 and incrementing by 1 with exclusion of 5\n",
        "r1 = range(5)\n",
        "print(r1)\n",
        "print(type(r1))\n",
        "print(list(r1))\n",
        "\n",
        "#bs aise hi for loop sexy lg rha tha\n",
        "for i in r1:\n",
        "  print(i)\n",
        "\n",
        "#passing parameter in range \n",
        "#starting from 0 and incrementing by 2 along with exclusion of 10\n",
        "r2 = range(0,10,2)\n",
        "print(list(r2))\n",
        "\n",
        "r3 = range(10,0,-1)\n",
        "print(list(r3))\n",
        "\n",
        "\n"
      ]
    },
    {
      "cell_type": "code",
      "execution_count": null,
      "metadata": {
        "colab": {
          "base_uri": "https://localhost:8080/"
        },
        "id": "roTk9AECXIki",
        "outputId": "f5b59244-909b-459b-80a1-632eb614b765"
      },
      "outputs": [
        {
          "output_type": "stream",
          "name": "stdout",
          "text": [
            "<class 'list'> []\n",
            "0\n",
            "7\n",
            "8\n",
            "45 Rahul 2 [True, False] 34\n",
            "[12, 24, 'Anjanay', 45, 5, 2, 23]\n",
            "[13, 'Anmol++', 786, 'Rahul', 'Mayank', 34, None, [True, False]]\n",
            "[2022, 12, 24, 'Anjanay', 45, 5, 2, 23]\n",
            "[2022, 12, 24, 'Anjanay', 45, 5, 2, 23, 'ankita']\n",
            "[2022, 12, 24, 'Anjanay', 45, 5, 2, 23, 'ankita', 'mohit', 'pankaj', 89]\n",
            "[2022, 12, 24, 'Anjanay', 45, 5, 2, 23, 'mohit', 'pankaj', 89]\n",
            "[2022, 12, 'Anjanay', 45, 5, 2, 23, 'mohit', 'pankaj', 89]\n",
            "[2, 23, 'mohit', 'pankaj', 89]\n",
            "[]\n",
            "[786, 90, 3, 2, 764, 890, 678]\n",
            "[786, 90, 3, 2, 764, 890, 678]\n",
            "[890, 786, 764, 678, 90, 3, 2]\n",
            "[2, 3, 90, 678, 764, 786, 890]\n",
            "[13, 'Anmol++', 786, 'Rahul', 'Mayank', 34, None, [True, False], 2, 3, 90, 678, 764, 786, 890]\n"
          ]
        }
      ],
      "source": [
        "#List working \n",
        "\n",
        "#empty list\n",
        "list0 = []\n",
        "print(type(list0),list0)\n",
        "\n",
        "#simple list\n",
        "list1 = [12,24,22,45,5,2,23]\n",
        "\n",
        "#complex list\n",
        "list2 = [13,\"Anmol\",45,\"Rahul\",\"Mayank\",34,None,[True, False]]\n",
        "type(list2)\n",
        "\n",
        "#length of list\n",
        "len0 = len(list0)\n",
        "print(len0)\n",
        "len1 = len(list1)\n",
        "print(len1)\n",
        "len2 = len(list2)\n",
        "print(len2)\n",
        "\n",
        "#extraction -1 is the last element\n",
        "print(list1[3],list2[3],list1[-2],list2[-1],list2[len(list2)-3]) #yaha length nikal kr minus krrhe\n",
        "\n",
        "#replacing\n",
        "list1[2] = \"Anjanay\"\n",
        "print(list1)\n",
        "list2[1:3] = [\"Anmol++\" , 786]\n",
        "print(list2)\n",
        "\n",
        "#insert at first position\n",
        "list1.insert(0,2022)\n",
        "print(list1)\n",
        "\n",
        "#appending ---will happen at last position\n",
        "new_list=\"ankita\"\n",
        "list1.append(new_list)\n",
        "print(list1)\n",
        "\n",
        "#extending list with multiple new item in the last position\n",
        "new_list1= [\"mohit\",\"pankaj\",89]\n",
        "list1.extend(new_list1)\n",
        "#list1.append(new_list)\n",
        "print(list1)\n",
        "\n",
        "#removing specific element from the list\n",
        "list1.remove('ankita')\n",
        "print(list1)\n",
        "\n",
        "#removing 3rd elment with the help of position\n",
        "list1.pop(2)\n",
        "print(list1)\n",
        "\n",
        "#removing multiple element by Index from starting point\n",
        "del list1[:5]\n",
        "print(list1)\n",
        "\n",
        "#removing all the elements from the list\n",
        "list1.clear()\n",
        "print(list1)\n",
        "\n",
        "\n",
        "list3 = [678,890,764,2,3,90,786]\n",
        "\n",
        "#just to reverse\n",
        "list3.reverse()\n",
        "print(list3)\n",
        "\n",
        "list3[::-1] #another way to reverse\n",
        "print(list3)\n",
        "\n",
        "#sorting in the descending order\n",
        "list3.sort(reverse=True)\n",
        "print(list3)\n",
        "\n",
        "#for ascending order short cut mt apnana jb tk zarurat na ho\n",
        "list3.sort()\n",
        "print(list3)\n",
        "\n",
        "#joining two lists\n",
        "list4 = list2 + list3\n",
        "print(list4)\n",
        "\n",
        "\n"
      ]
    },
    {
      "cell_type": "code",
      "source": [
        "#tuple working\n",
        "#it is immutable that is not editable\n",
        "\n",
        "tup1 = (34,'anjali',78,'joey',998)\n",
        "print(tup1)\n",
        "type(tup1)\n",
        "\n",
        "#editing tuple with the help of list \n",
        "#don't start any number with 0 like 03\n",
        "\n",
        "list1= list(tup1)\n",
        "list2= [\"Rajeev\",\"Kumar\",89,900]\n",
        "list1.extend(list2)\n",
        "tup1= tuple(list1)\n",
        "print(tup1)\n",
        "\n",
        "\n",
        "\n"
      ],
      "metadata": {
        "colab": {
          "base_uri": "https://localhost:8080/"
        },
        "id": "8ScHoXDCmFT3",
        "outputId": "3536591a-e196-42d5-f1ec-e414dae069cc"
      },
      "execution_count": null,
      "outputs": [
        {
          "output_type": "stream",
          "name": "stdout",
          "text": [
            "(34, 'anjali', 78, 'joey', 998)\n",
            "(34, 'anjali', 78, 'joey', 998, 'Rajeev', 'Kumar', 89, 900)\n"
          ]
        }
      ]
    },
    {
      "cell_type": "code",
      "source": [
        "#set working\n",
        "#works for unique element\n",
        "\n",
        "s = {0,1,2,3,4,5,6,4,4,'anjanay'}\n",
        "type(s)\n",
        "\n",
        "s1 = {4,9,0,6,4}\n",
        "s2 = {5,8,9,0,6,4,3,2}\n",
        "\n",
        "s12_union=s2.union(s1)\n",
        "print(s12_union)\n",
        "\n",
        "#another way for union\n",
        "s12_union1= s1|s2\n",
        "print(s12_union1)\n",
        "\n",
        "s12_inter= s1.intersection(s2)\n",
        "print(s12_inter)\n",
        "\n",
        "#another way for intersection\n",
        "s12_inter1 = s1 & s2\n",
        "print(s12_inter)\n",
        "\n",
        "\n",
        "#difference between two sets\n",
        "#mtlb jo common element h wo hat jayega\n",
        "s12_diff = s2.difference(s1)\n",
        "print(s12_diff)\n",
        "\n",
        "#another way\n",
        "s12_diff1 = s2 - s1\n",
        "print(s12_diff1)\n",
        "\n",
        "#adding new unique element in set and it accepts only one argument\n",
        "s12_diff1.add(6)\n",
        "print(s12_diff1)"
      ],
      "metadata": {
        "colab": {
          "base_uri": "https://localhost:8080/"
        },
        "id": "pfBjETcnpf85",
        "outputId": "57664de3-75ed-4d83-a541-3494a79e4e94"
      },
      "execution_count": null,
      "outputs": [
        {
          "output_type": "stream",
          "name": "stdout",
          "text": [
            "{0, 2, 3, 4, 5, 6, 8, 9}\n",
            "{0, 2, 3, 4, 5, 6, 8, 9}\n",
            "{0, 9, 4, 6}\n",
            "{0, 9, 4, 6}\n",
            "{8, 2, 3, 5}\n",
            "{8, 2, 3, 5}\n",
            "{2, 3, 5, 6, 8}\n"
          ]
        }
      ]
    },
    {
      "cell_type": "code",
      "source": [
        "#dictionary working\n",
        "#key-value pair\n",
        "\n",
        "dic1={\"Name\": \"Anjanay\", \"Age\": 25, \"Gender\": \"Male\", \"Phone Number\": 834016747474}\n",
        "type(dic1)\n",
        "\n",
        "#Listing all the keys\n",
        "print(dic1.keys())\n",
        "#Listing all the values\n",
        "print(dic1.values())\n",
        "\n",
        "\n",
        "print(dic1['Name'])#getting value from key\n",
        "\n",
        "#updating the age\n",
        "dic1['Age'] = 25.5\n",
        "print(dic1)\n",
        "\n",
        "#updating dic with new KV pair\n",
        "dic1.update({\"Birth Place\" : \"Patna\"})\n",
        "print(dic1)\n",
        "\n",
        "#removing key along with the value\n",
        "dic1.pop(\"Gender\")\n",
        "print(dic1)\n",
        "\n"
      ],
      "metadata": {
        "colab": {
          "base_uri": "https://localhost:8080/"
        },
        "id": "XTaimrBBt10F",
        "outputId": "0697386b-b088-42e3-8f2f-c8dde7c65ad4"
      },
      "execution_count": null,
      "outputs": [
        {
          "output_type": "stream",
          "name": "stdout",
          "text": [
            "dict_keys(['Name', 'Age', 'Gender', 'Phone Number'])\n",
            "dict_values(['Anjanay', 25, 'Male', 834016747474])\n",
            "Anjanay\n",
            "{'Name': 'Anjanay', 'Age': 25.5, 'Gender': 'Male', 'Phone Number': 834016747474}\n",
            "{'Name': 'Anjanay', 'Age': 25.5, 'Gender': 'Male', 'Phone Number': 834016747474, 'Birth Place': 'Patna'}\n",
            "{'Name': 'Anjanay', 'Age': 25.5, 'Phone Number': 834016747474, 'Birth Place': 'Patna'}\n"
          ]
        }
      ]
    },
    {
      "cell_type": "code",
      "source": [
        "#Input and Output operations\n",
        "\n",
        "num = input(\"Please enter a number \")\n",
        "num = int(num)\n",
        "num += 1\n",
        "print(num)\n",
        "\n",
        "name=\"Anjanay Anjanay\"\n",
        "print(\"Hello! \"+name)\n",
        "print(\"hey boi!: \",name)\n",
        "print(f'Hello {name}!, How are ya ?')"
      ],
      "metadata": {
        "colab": {
          "base_uri": "https://localhost:8080/"
        },
        "id": "zrR1Wbdz0qtv",
        "outputId": "2184bfa8-a2e1-476e-e7f1-0adfdf17eea8"
      },
      "execution_count": null,
      "outputs": [
        {
          "output_type": "stream",
          "name": "stdout",
          "text": [
            "Please enter a number 66\n",
            "67\n",
            "Hello! Anjanay Anjanay\n",
            "hey boi!:  Anjanay Anjanay\n",
            "Hello Anjanay Anjanay!, How are ya ?\n"
          ]
        }
      ]
    },
    {
      "cell_type": "code",
      "source": [],
      "metadata": {
        "id": "CC3fDxI53KrJ"
      },
      "execution_count": null,
      "outputs": []
    }
  ],
  "metadata": {
    "colab": {
      "collapsed_sections": [],
      "provenance": [],
      "authorship_tag": "ABX9TyNxDzDO1ZTudAOH2c4FK4WD",
      "include_colab_link": true
    },
    "kernelspec": {
      "display_name": "Python 3",
      "name": "python3"
    },
    "language_info": {
      "name": "python"
    }
  },
  "nbformat": 4,
  "nbformat_minor": 0
}