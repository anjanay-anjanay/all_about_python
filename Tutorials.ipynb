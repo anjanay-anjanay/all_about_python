{
  "nbformat": 4,
  "nbformat_minor": 0,
  "metadata": {
    "colab": {
      "provenance": [],
      "collapsed_sections": [],
      "authorship_tag": "ABX9TyOVhPrestzrlQOXDBs+zOb5",
      "include_colab_link": true
    },
    "kernelspec": {
      "name": "python3",
      "display_name": "Python 3"
    },
    "language_info": {
      "name": "python"
    }
  },
  "cells": [
    {
      "cell_type": "markdown",
      "metadata": {
        "id": "view-in-github",
        "colab_type": "text"
      },
      "source": [
        "<a href=\"https://colab.research.google.com/github/anjanay-anjanay/all_about_python/blob/main/Tutorials.ipynb\" target=\"_parent\"><img src=\"https://colab.research.google.com/assets/colab-badge.svg\" alt=\"Open In Colab\"/></a>"
      ]
    },
    {
      "cell_type": "code",
      "execution_count": null,
      "metadata": {
        "colab": {
          "base_uri": "https://localhost:8080/"
        },
        "id": "mI5VsEUKqqnN",
        "outputId": "0ecf7ae2-c9f6-4d81-f315-36c45c3f4dee"
      },
      "outputs": [
        {
          "output_type": "stream",
          "name": "stdout",
          "text": [
            "Hello Anjanay welcome to google colab\n"
          ]
        }
      ],
      "source": [
        "print(\"Hello Anjanay welcome to google colab\")\n"
      ]
    },
    {
      "cell_type": "code",
      "source": [
        "#mini calculator\n",
        "\n",
        "first = input(\"Please enter 1st number : \")\n",
        "operator = input(\"Please choose the operator +,-,*,/,% : \")\n",
        "second = input(\"Please enter 2nd number : \")\n",
        "\n",
        "first = int(first)\n",
        "second = int(second)\n",
        "\n",
        "if operator == \"+\":\n",
        "  print(\"The sum of two numbers is: \",first+second)\n",
        "elif operator == \"-\":\n",
        "  print(\"The subtraction of two numbers is: \",first-second)\n",
        "elif operator == \"*\":\n",
        "  print(\"The multiplication of two numbers is: \",first*second)\n",
        "elif operator == \"/\":\n",
        "  print(\"The division of two numbers is: \",first/second)\n",
        "elif operator == \"%\":\n",
        "  print(\"The remainder is: \",first%second)\n",
        "else:\n",
        "  print(\"Invalid selection\")"
      ],
      "metadata": {
        "colab": {
          "base_uri": "https://localhost:8080/"
        },
        "id": "QGxEh54Bq9cZ",
        "outputId": "be1728b2-574e-440d-d6c9-404dfedc41cb"
      },
      "execution_count": null,
      "outputs": [
        {
          "output_type": "stream",
          "name": "stdout",
          "text": [
            "Please enter 1st number : 15\n",
            "Please choose the operator +,-,*,/,% : %\n",
            "Please enter 2nd number : 4\n",
            "The remainder is:  3\n"
          ]
        }
      ]
    },
    {
      "cell_type": "code",
      "source": [
        "num = range(7)\n",
        "print(num)"
      ],
      "metadata": {
        "colab": {
          "base_uri": "https://localhost:8080/"
        },
        "id": "uzGH7YWcrl1N",
        "outputId": "b648639e-ce7d-45d1-d185-b49328260532"
      },
      "execution_count": null,
      "outputs": [
        {
          "output_type": "stream",
          "name": "stdout",
          "text": [
            "range(0, 7)\n"
          ]
        }
      ]
    },
    {
      "cell_type": "code",
      "source": [
        "#while loop example\n",
        "i = 0\n",
        "while i <= 10:\n",
        "  print(i)\n",
        "  i += 2"
      ],
      "metadata": {
        "colab": {
          "base_uri": "https://localhost:8080/"
        },
        "id": "0FpHK59gt5yS",
        "outputId": "5db85822-67c1-461a-eeb8-8bd6bf6711c2"
      },
      "execution_count": null,
      "outputs": [
        {
          "output_type": "stream",
          "name": "stdout",
          "text": [
            "0\n",
            "2\n",
            "4\n",
            "6\n",
            "8\n",
            "10\n"
          ]
        }
      ]
    },
    {
      "cell_type": "code",
      "source": [
        "#star pattern example using while loop\n",
        "i = 1\n",
        "while i <=5:\n",
        "  print(i * '*')\n",
        "  i += 1"
      ],
      "metadata": {
        "colab": {
          "base_uri": "https://localhost:8080/"
        },
        "id": "l6XXfWvWubcG",
        "outputId": "3298d3cb-fdbb-44bc-cad9-af18fce34ba3"
      },
      "execution_count": null,
      "outputs": [
        {
          "output_type": "stream",
          "name": "stdout",
          "text": [
            "*\n",
            "**\n",
            "***\n",
            "****\n",
            "*****\n"
          ]
        }
      ]
    },
    {
      "cell_type": "code",
      "source": [
        "i = 5\n",
        "while i >= 0:\n",
        "  print(i * '*')\n",
        "  i -= 1"
      ],
      "metadata": {
        "colab": {
          "base_uri": "https://localhost:8080/"
        },
        "id": "iewhavQNuw7h",
        "outputId": "c6060f14-922c-4dec-ee15-3b4166c92d05"
      },
      "execution_count": null,
      "outputs": [
        {
          "output_type": "stream",
          "name": "stdout",
          "text": [
            "*****\n",
            "****\n",
            "***\n",
            "**\n",
            "*\n",
            "\n"
          ]
        }
      ]
    },
    {
      "cell_type": "code",
      "source": [
        "#for loop example\n",
        "for item in range(7):\n",
        "  print(item + 2)"
      ],
      "metadata": {
        "colab": {
          "base_uri": "https://localhost:8080/"
        },
        "id": "sF5oFoXNvA5D",
        "outputId": "72738180-d2e7-4880-e047-ec1d7a584472"
      },
      "execution_count": null,
      "outputs": [
        {
          "output_type": "stream",
          "name": "stdout",
          "text": [
            "2\n",
            "3\n",
            "4\n",
            "5\n",
            "6\n",
            "7\n",
            "8\n"
          ]
        }
      ]
    },
    {
      "cell_type": "code",
      "source": [
        "#List example []\n",
        "\n",
        "things = ['Bag','Copy','Pen','Pencil']\n",
        "marks = [53,58,85]\n",
        "\n",
        "print(things)\n",
        "print(marks)\n",
        "\n",
        "#Positioning of list element\n",
        "print(things[0] , marks[2])\n",
        "print(things[-2], marks[-2])\n",
        "\n",
        "#fetch in a certain interval where higher range is ignored\n",
        "print(things[1:3])\n",
        "print(marks[0:3])\n",
        "\n",
        "#insert and append functions\n",
        "marks.append(78)\n",
        "marks.append(89)\n",
        "marks.insert(0,55)\n",
        "\n",
        "print(marks)\n",
        "print(99 in marks)\n",
        "print(\"The total number of items in the marks list :\", len(marks))\n",
        "print(\"The total number of items in the things list :\", len(things))\n",
        "\n",
        "#implementation of the for loop\n",
        "for item in things:\n",
        "  print(\"\\n\",item)\n",
        "\n",
        "for item in marks:\n",
        "  print(marks[0]+marks[1]+marks[2])\n",
        "\n",
        "#implementation of while loop in list\n",
        "\n",
        "i = 0\n",
        "while i < len(marks):\n",
        "  print(\"\\n\")\n",
        "  print(marks[i])\n",
        "  i += 1\n",
        "\n",
        "#clear function for deleting all the items in the list\n",
        "marks.clear()\n",
        "print(marks)"
      ],
      "metadata": {
        "id": "9hAnK1JqvmHu",
        "colab": {
          "base_uri": "https://localhost:8080/"
        },
        "outputId": "98f432fa-ffb4-4822-c721-32fedd865412"
      },
      "execution_count": null,
      "outputs": [
        {
          "output_type": "stream",
          "name": "stdout",
          "text": [
            "['Bag', 'Copy', 'Pen', 'Pencil']\n",
            "[53, 58, 85]\n",
            "Bag 85\n",
            "Pen 58\n",
            "['Copy', 'Pen']\n",
            "[53, 58, 85]\n",
            "[55, 53, 58, 85, 78, 89]\n",
            "False\n",
            "The total number of items in the marks list : 6\n",
            "The total number of items in the things list : 4\n",
            "\n",
            " Bag\n",
            "\n",
            " Copy\n",
            "\n",
            " Pen\n",
            "\n",
            " Pencil\n",
            "166\n",
            "166\n",
            "166\n",
            "166\n",
            "166\n",
            "166\n",
            "\n",
            "\n",
            "55\n",
            "\n",
            "\n",
            "53\n",
            "\n",
            "\n",
            "58\n",
            "\n",
            "\n",
            "85\n",
            "\n",
            "\n",
            "78\n",
            "\n",
            "\n",
            "89\n",
            "[]\n"
          ]
        }
      ]
    },
    {
      "cell_type": "code",
      "source": [
        "#Break and Continue example\n",
        "\n",
        "friends = ['anmol','arnab','anisha','anjanay','eric']\n",
        "\n",
        "for person in friends:\n",
        "  if person == 'anjanay':\n",
        "    break\n",
        "  print(person)\n",
        "\n",
        "print(\"\\n\")\n",
        "\n",
        "for person in friends:\n",
        "  if person =='anisha':\n",
        "    continue\n",
        "  print(person)\n",
        "\n",
        "print(\"\\nWhile loop operation\")\n",
        "\n",
        "i=0\n",
        "while i < len(friends):\n",
        "  if friends[i] == 'anjanay':\n",
        "    break\n",
        "  print(friends[i])\n",
        "  i+=1\n",
        "  \n",
        "print(\"\\nWhile loop operation\")\n",
        "i=0\n",
        "while i < len(friends):\n",
        "  if friends[i] == 'anisha':\n",
        "    i+=1\n",
        "    continue\n",
        "  print(friends[i])\n",
        "  i+=1\n"
      ],
      "metadata": {
        "colab": {
          "base_uri": "https://localhost:8080/"
        },
        "id": "MEDCtYCs2Het",
        "outputId": "ce392ef8-ecc6-4fb7-cef2-afa0e7ec24d7"
      },
      "execution_count": null,
      "outputs": [
        {
          "output_type": "stream",
          "name": "stdout",
          "text": [
            "anmol\n",
            "arnab\n",
            "anisha\n",
            "\n",
            "\n",
            "anmol\n",
            "arnab\n",
            "anjanay\n",
            "eric\n",
            "\n",
            "While loop operation\n",
            "anmol\n",
            "arnab\n",
            "anisha\n",
            "\n",
            "While loop operation\n",
            "anmol\n",
            "arnab\n",
            "anjanay\n",
            "eric\n"
          ]
        }
      ]
    },
    {
      "cell_type": "code",
      "source": [
        "# Tuple operation: Tuple in immutable as it can't be changed in later stages\n",
        "\n",
        "marks = (45,34,67,74,34,67,34)\n",
        "\n",
        "#to count number of occurences\n",
        "print(marks.count(34))\n",
        "\n",
        "#to print the indexing\n",
        "print(marks.index(34))\n",
        "\n",
        "\n",
        "#[] : list mutable\n",
        "#() : tuple immutable\n",
        "#{} : sets no duplication allowed\n"
      ],
      "metadata": {
        "id": "8V0o2GwSKZIM",
        "colab": {
          "base_uri": "https://localhost:8080/"
        },
        "outputId": "33244061-d03d-48b1-8072-f1351166f600"
      },
      "execution_count": 4,
      "outputs": [
        {
          "output_type": "stream",
          "name": "stdout",
          "text": [
            "3\n",
            "1\n"
          ]
        }
      ]
    },
    {
      "cell_type": "code",
      "source": [
        "#Set operation\n",
        "\n",
        "marks = {23,45,43,56,46,45}\n",
        "\n",
        "print(marks)\n",
        "\n",
        "# print(marks[0]) it will give error as items in sets have no sequence\n",
        "\n",
        "\n",
        "for item in marks:\n",
        "  print(item)"
      ],
      "metadata": {
        "colab": {
          "base_uri": "https://localhost:8080/"
        },
        "id": "HdFzPME3Ls_O",
        "outputId": "19f0f6bd-6585-40c6-9c55-6224e602e52d"
      },
      "execution_count": 7,
      "outputs": [
        {
          "output_type": "stream",
          "name": "stdout",
          "text": [
            "{43, 45, 46, 23, 56}\n",
            "43\n",
            "45\n",
            "46\n",
            "23\n",
            "56\n"
          ]
        }
      ]
    },
    {
      "cell_type": "code",
      "source": [
        "#Dictionary operation\n",
        "#key-value pair\n",
        "marks = {\"English\":81, \"Physics\":45, \"Maths\": 57, \"Physical Education\": 97, \"Chemistry\":67}\n",
        "\n",
        "print(marks)\n",
        "\n",
        "marks[\"Physics\"] = 78\n",
        "\n",
        "print(marks)\n",
        "print(marks[\"Physics\"])"
      ],
      "metadata": {
        "colab": {
          "base_uri": "https://localhost:8080/"
        },
        "id": "e4J0cnVfMUIg",
        "outputId": "d70d85cc-045d-4a70-db14-a2e77f108794"
      },
      "execution_count": 3,
      "outputs": [
        {
          "output_type": "stream",
          "name": "stdout",
          "text": [
            "{'English': 81, 'Physics': 45, 'Maths': 57, 'Physical Education': 97, 'Chemistry': 67}\n",
            "{'English': 81, 'Physics': 78, 'Maths': 57, 'Physical Education': 97, 'Chemistry': 67}\n",
            "78\n"
          ]
        }
      ]
    },
    {
      "cell_type": "code",
      "source": [
        "#Functions\n",
        "\n",
        "\n",
        "#working of module function\n",
        "from math import sqrt\n",
        "print(sqrt(81))\n",
        "\n",
        "#working of user defined functions with two parameters\n",
        "\n",
        "def add_num(first, second):\n",
        "  print(first+second)\n",
        "\n",
        "num1= input(\"Enter 1st number \")\n",
        "num2= input(\"Enter 2nd number \")\n",
        "\n",
        "num1= int(num1)\n",
        "num2= int(num2)\n",
        "\n",
        "add_num(num1,num2)"
      ],
      "metadata": {
        "colab": {
          "base_uri": "https://localhost:8080/"
        },
        "id": "iURZQhBhNncp",
        "outputId": "c3dd6ace-eb1b-4073-e634-a4e00b1bb202"
      },
      "execution_count": 6,
      "outputs": [
        {
          "output_type": "stream",
          "name": "stdout",
          "text": [
            "9.0\n",
            "Enter 1st number45\n",
            "Enter 2nd number45\n",
            "90\n"
          ]
        }
      ]
    },
    {
      "cell_type": "code",
      "source": [
        "#User defined function with 1 fixed parameter\n",
        "\n",
        "def multi_num(num1, num2 = 5):\n",
        "  print(num1*num2)\n",
        "first= input(\"Enter 1st number \")\n",
        "#num2= input(\"Enter 2nd number \")\n",
        "\n",
        "first= int(first)\n",
        "#num2= int(num2)\n",
        "#function will take 5 if there is no other parameters are given\n",
        "multi_num(first,4)\n",
        "\n"
      ],
      "metadata": {
        "colab": {
          "base_uri": "https://localhost:8080/"
        },
        "id": "Ps8daGJqO40m",
        "outputId": "e50456d1-626b-4363-d899-b99bd8fa533d"
      },
      "execution_count": 8,
      "outputs": [
        {
          "output_type": "stream",
          "name": "stdout",
          "text": [
            "Enter 1st number 7\n",
            "28\n"
          ]
        }
      ]
    },
    {
      "cell_type": "code",
      "source": [
        "# User defined funtions with no parameters\n",
        "\n",
        "def print_msg():\n",
        "  print(\"I love my India\")\n",
        "print_msg()\n",
        "\n",
        "def print_msg(string1):\n",
        "  print(\"This is the secret message : \" + string1)\n",
        "print_msg(\"hollywood\")"
      ],
      "metadata": {
        "colab": {
          "base_uri": "https://localhost:8080/"
        },
        "id": "_tEAxpvgP1Xr",
        "outputId": "debf6a45-fd6a-48dd-faee-ba467d20100f"
      },
      "execution_count": 12,
      "outputs": [
        {
          "output_type": "stream",
          "name": "stdout",
          "text": [
            "I love my India\n",
            "This is the secret message : hollywood\n"
          ]
        }
      ]
    }
  ]
}